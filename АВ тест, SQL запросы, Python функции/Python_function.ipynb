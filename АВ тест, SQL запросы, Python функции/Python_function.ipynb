{
 "cells": [
  {
   "cell_type": "code",
   "execution_count": 100,
   "metadata": {},
   "outputs": [],
   "source": [
    "import pandas as pd\n",
    "import matplotlib.pyplot as plt"
   ]
  },
  {
   "cell_type": "markdown",
   "metadata": {},
   "source": [
    "- **Получаю файл к которому надо добавлять данные**"
   ]
  },
  {
   "cell_type": "code",
   "execution_count": 101,
   "metadata": {},
   "outputs": [],
   "source": [
    "path_to_checks = 'https://getfile.dokpub.com/yandex/get/https://disk.yandex.ru/d/pH1q-VqcxXjsVA'\n",
    "path_to_active_studs = 'https://getfile.dokpub.com/yandex/get/https://disk.yandex.ru/d/Tbs44Bm6H_FwFQ'\n",
    "path_to_groups = 'https://getfile.dokpub.com/yandex/get/https://disk.yandex.ru/d/UhyYx41rTt3clQ'\n",
    "\n",
    "checks = pd.read_csv(path_to_checks, sep=\";\")\n",
    "active_studs = pd.read_csv(path_to_active_studs)\n",
    "groups = pd.read_csv(path_to_groups, sep=\";\")\n",
    "\n",
    "df = active_studs.merge(groups, how = 'inner', left_on = 'student_id', right_on = 'id' )\n",
    "# соеденяю таблицы active_studs и groups, inner - т.к. интересны студенты только с принадлежностью к группе\n",
    "\n",
    "df.drop('id', axis= 1 , inplace= True )  # удаляю id т.к. дублирует student_id\n",
    "\n",
    "df = df.merge(checks, how = 'left', on = 'student_id')\n",
    "# присоеденяю таблицу checks, left - т.к. нужны все студенты: с оплатой и без"
   ]
  },
  {
   "cell_type": "markdown",
   "metadata": {},
   "source": [
    "- **Создам функцию, которая будет автоматически подгружать информацию из дополнительного файла groups_add.csv (заголовки могут отличаться) и на основании дополнительных параметров пересчитывать метрики.**"
   ]
  },
  {
   "cell_type": "code",
   "execution_count": 18,
   "metadata": {
    "scrolled": false
   },
   "outputs": [],
   "source": [
    "def add_new_file (df,link_to_new_file):\n",
    "\n",
    "    url = 'https://getfile.dokpub.com/yandex/get/'\n",
    "\n",
    "    path_to_groups_add = url + link_to_new_file # прямая ссылка работала пока не привысился лимит скачивания\n",
    "\n",
    "    groups_add.columns = list(df)[:2]\n",
    "\n",
    "    df_new = df.append(groups_add, ignore_index = True )\n",
    "\n",
    "    df_new['payment'] = df_new.rev.apply(lambda x: 'pay' if x > 0 else 'not_pay').fillna(0)\n",
    "    \n",
    "    metrics = pd.DataFrame(columns=['cr', 'avg_chek', 'arpu', 'arppu'])\n",
    "    \n",
    "    metrics['cr'] = round(df_new.query('payment == \"pay\"').groupby('grp').agg({'rev':'count'}).rev \\\n",
    "       / df_new.groupby('grp').agg({'student_id':'count'}).student_id * 100, 2)\n",
    "\n",
    "    metrics['avg_chek'] = round(df_new.query('payment == \"pay\"').groupby('grp').agg({'rev':'sum'}).rev \\\n",
    "       / df_new.query('payment == \"pay\"').groupby('grp').agg({'student_id':'count'}).student_id, 2)      \n",
    "\n",
    "    metrics['arpu'] = round(df_new.groupby('grp').agg({'rev':'sum'}).rev \\\n",
    "       / df_new.groupby('grp').agg({'student_id':'count'}).student_id, 2)\n",
    "\n",
    "    metrics['arppu'] = round(df_new.query('payment == \"pay\"').groupby('grp').agg({'rev':'sum'}).rev \\\n",
    "       / df_new.query('payment == \"pay\"').groupby('grp').agg({'rev':'count'}).rev, 2)\n",
    "    return metrics"
   ]
  },
  {
   "cell_type": "code",
   "execution_count": 103,
   "metadata": {
    "scrolled": true
   },
   "outputs": [
    {
     "data": {
      "text/html": [
       "<div>\n",
       "<style scoped>\n",
       "    .dataframe tbody tr th:only-of-type {\n",
       "        vertical-align: middle;\n",
       "    }\n",
       "\n",
       "    .dataframe tbody tr th {\n",
       "        vertical-align: top;\n",
       "    }\n",
       "\n",
       "    .dataframe thead th {\n",
       "        text-align: right;\n",
       "    }\n",
       "</style>\n",
       "<table border=\"1\" class=\"dataframe\">\n",
       "  <thead>\n",
       "    <tr style=\"text-align: right;\">\n",
       "      <th></th>\n",
       "      <th>cr</th>\n",
       "      <th>avg_chek</th>\n",
       "      <th>arpu</th>\n",
       "      <th>arppu</th>\n",
       "    </tr>\n",
       "  </thead>\n",
       "  <tbody>\n",
       "    <tr>\n",
       "      <th>A</th>\n",
       "      <td>5.01</td>\n",
       "      <td>933.59</td>\n",
       "      <td>46.77</td>\n",
       "      <td>933.59</td>\n",
       "    </tr>\n",
       "    <tr>\n",
       "      <th>B</th>\n",
       "      <td>4.56</td>\n",
       "      <td>1255.83</td>\n",
       "      <td>57.27</td>\n",
       "      <td>1255.83</td>\n",
       "    </tr>\n",
       "  </tbody>\n",
       "</table>\n",
       "</div>"
      ],
      "text/plain": [
       "     cr  avg_chek   arpu    arppu\n",
       "A  5.01    933.59  46.77   933.59\n",
       "B  4.56   1255.83  57.27  1255.83"
      ]
     },
     "execution_count": 103,
     "metadata": {},
     "output_type": "execute_result"
    }
   ],
   "source": [
    "df_new = add_new_file(df)\n",
    "df_new"
   ]
  },
  {
   "cell_type": "markdown",
   "metadata": {},
   "source": [
    "- **Содам функцию, которая будет строить графики по получаемым метрикам.**"
   ]
  },
  {
   "cell_type": "code",
   "execution_count": 104,
   "metadata": {
    "scrolled": false
   },
   "outputs": [],
   "source": [
    "def graphs_metrics (df):\n",
    "\n",
    "    plt.figure(figsize=(3, 3))\n",
    "    df['cr'].plot(kind='bar', color=[\"green\", \"orange\"])\n",
    "    plt.title('Conversion rate', pad=10)\n",
    "    plt.xlabel('Group', labelpad=5)\n",
    "    plt.ylabel('CR', labelpad=5)\n",
    "    plt.show()\n",
    "    \n",
    "    plt.figure(figsize=(3, 3))\n",
    "    df['avg_chek'].plot(kind='bar', color=[\"green\", \"orange\"])\n",
    "    plt.title('Average check', pad=10)\n",
    "    plt.xlabel('Group', labelpad=5)\n",
    "    plt.ylabel('avg chek', labelpad=5)\n",
    "    plt.show()\n",
    "    \n",
    "    plt.figure(figsize=(3, 3))\n",
    "    df['arpu'].plot(kind='bar', color=[\"green\", \"orange\"])\n",
    "    plt.title('ARPU', pad=10)\n",
    "    plt.xlabel('Group', labelpad=5)\n",
    "    plt.ylabel('ARPU', labelpad=5)\n",
    "    plt.show()\n",
    "    \n",
    "    plt.figure(figsize=(3, 3))\n",
    "    df['arppu'].plot(kind='bar', color=[\"green\", \"orange\"])\n",
    "    plt.title('ARPPU', pad=10)\n",
    "    plt.xlabel('Group', labelpad=5)\n",
    "    plt.ylabel('ARPPU', labelpad=5)\n",
    "    plt.show()"
   ]
  },
  {
   "cell_type": "code",
   "execution_count": 105,
   "metadata": {},
   "outputs": [
    {
     "data": {
      "image/png": "[encoded data removed]",
      "text/plain": [
       "<Figure size 216x216 with 1 Axes>"
      ]
     },
     "metadata": {
      "needs_background": "light"
     },
     "output_type": "display_data"
    },
    {
     "data": {
      "image/png": "[encoded data removed]",
      "text/plain": [
       "<Figure size 216x216 with 1 Axes>"
      ]
     },
     "metadata": {
      "needs_background": "light"
     },
     "output_type": "display_data"
    },
    {
     "data": {
      "image/png": "[encoded data removed]",
      "text/plain": [
       "<Figure size 216x216 with 1 Axes>"
      ]
     },
     "metadata": {
      "needs_background": "light"
     },
     "output_type": "display_data"
    },
    {
     "data": {
      "image/png": "[encoded data removed]",
      "text/plain": [
       "<Figure size 216x216 with 1 Axes>"
      ]
     },
     "metadata": {
      "needs_background": "light"
     },
     "output_type": "display_data"
    }
   ],
   "source": [
    "graphs_metrics(df_new)"
   ]
  }
 ],
 "metadata": {
  "kernelspec": {
   "display_name": "Python 3",
   "language": "python",
   "name": "python3"
  },
  "language_info": {
   "codemirror_mode": {
    "name": "ipython",
    "version": 3
   },
   "file_extension": ".py",
   "mimetype": "text/x-python",
   "name": "python",
   "nbconvert_exporter": "python",
   "pygments_lexer": "ipython3",
   "version": "3.7.3"
  }
 },
 "nbformat": 4,
 "nbformat_minor": 4
}
